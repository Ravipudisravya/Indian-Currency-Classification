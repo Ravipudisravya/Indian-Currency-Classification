{
 "cells": [
  {
   "cell_type": "code",
   "execution_count": null,
   "metadata": {
    "id": "tS9RoFBi88kY"
   },
   "outputs": [],
   "source": [
    "import numpy as np\n",
    "import pandas as pd\n",
    "import matplotlib.pyplot as plt\n",
    "%matplotlib inline \n",
    "from tensorflow.keras.preprocessing.image import ImageDataGenerator\n",
    "import os\n",
    "from pathlib import Path\n",
    "from keras.preprocessing import image\n",
    "import numpy as np\n",
    "import tensorflow as tf"
   ]
  },
  {
   "cell_type": "code",
   "execution_count": null,
   "metadata": {
    "id": "4vq-Be_DbG7U"
   },
   "outputs": [],
   "source": [
    "train_dir = '/content/Indian-Currency-Classification-main/train'   \n",
    "\n",
    "train_dataset = tf.keras.preprocessing.image_dataset_from_directory(\n",
    "          #train_dir, \n",
    "    directory=r\"C:\\Users\\ravip\\Indian-Currency-Classification-main\\Indian-Currency-Classification-main\\train\",\n",
    "          labels='inferred', \n",
    "          label_mode='int',\n",
    "          class_names=['10', '20', '50', '100', '200', '500', '2000'], \n",
    "          color_mode='rgb', \n",
    "          batch_size=32, \n",
    "          image_size=(128,128), \n",
    "          shuffle=True, \n",
    "          seed=123, \n",
    "          validation_split=0.2, \n",
    "          subset='training',\n",
    "          interpolation='bicubic', \n",
    "          follow_links=False, \n",
    "          smart_resize=True\n",
    "        )\n",
    "\n",
    "validation_dataset = tf.keras.preprocessing.image_dataset_from_directory(\n",
    "          directory=r\"C:\\Users\\ravip\\Indian-Currency-Classification-main\\Indian-Currency-Classification-main\\train\", \n",
    "          labels='inferred', \n",
    "          label_mode='int',\n",
    "          class_names=['10', '20', '50', '100', '200', '500', '2000'], \n",
    "          color_mode='rgb', \n",
    "          batch_size=32, \n",
    "          image_size=(128,128), \n",
    "          shuffle=False, \n",
    "          seed=123, \n",
    "          validation_split=0.2, \n",
    "          subset='validation',\n",
    "          interpolation='bicubic', \n",
    "          follow_links=False, \n",
    "          smart_resize=True\n",
    "        )"
   ]
  },
  {
   "cell_type": "code",
   "execution_count": null,
   "metadata": {
    "id": "agau4dbxRTCQ"
   },
   "outputs": [],
   "source": [
    "def normalize(image,label):\n",
    "    \"\"\"\n",
    "    Returns normalized image and its label\n",
    "    \"\"\" \n",
    "    image = tf.cast(image/255. ,tf.float32)\n",
    "    return image,label"
   ]
  },
  {
   "cell_type": "code",
   "execution_count": null,
   "metadata": {
    "id": "lf292Y09Absf"
   },
   "outputs": [],
   "source": [
    "train_dataset = train_dataset.map(normalize)\n",
    "validation_dataset = validation_dataset.map(normalize)"
   ]
  },
  {
   "cell_type": "code",
   "execution_count": null,
   "metadata": {
    "id": "vYyLIlAkKTbC"
   },
   "outputs": [],
   "source": [
    "model = tf.keras.Sequential([\n",
    "            \n",
    "            tf.keras.layers.Conv2D(64, (1, 1), input_shape=(128, 128, 3)),\n",
    "            tf.keras.layers.BatchNormalization(axis=-1),\n",
    "            tf.keras.layers.Activation('relu'),\n",
    "            \n",
    "            tf.keras.layers.Conv2D(32, (3, 3)),\n",
    "            tf.keras.layers.BatchNormalization(axis=-1),\n",
    "            tf.keras.layers.Activation('relu'),\n",
    "            tf.keras.layers.MaxPooling2D(pool_size=(2,2)),\n",
    "\n",
    "            tf.keras.layers.Conv2D(16, (3, 3)),\n",
    "            tf.keras.layers.BatchNormalization(axis=-1),\n",
    "            tf.keras.layers.Activation('relu'),\n",
    "            tf.keras.layers.MaxPooling2D(pool_size=(2,2)), \n",
    "\n",
    "            tf.keras.layers.Flatten(),\n",
    "            tf.keras.layers.Dropout(0.50),\n",
    "            tf.keras.layers.Dense(64, activation='relu'),\n",
    "            tf.keras.layers.Dropout(0.30),\n",
    "            tf.keras.layers.Dense(32, activation='relu'),\n",
    "            tf.keras.layers.Dense(7),\n",
    "            tf.keras.layers.Activation('softmax')\n",
    "          ])"
   ]
  },
  {
   "cell_type": "code",
   "execution_count": null,
   "metadata": {},
   "outputs": [],
   "source": [
    "layer_names = []\n",
    "for layer in model.layers[:8]:\n",
    "    layer_names.append(layer.name)\n",
    "print(layer_names)"
   ]
  },
  {
   "cell_type": "code",
   "execution_count": null,
   "metadata": {
    "id": "8kZtaa1ALmn2"
   },
   "outputs": [],
   "source": [
    "model.summary()"
   ]
  },
  {
   "cell_type": "code",
   "execution_count": null,
   "metadata": {
    "id": "INDI5ZV621do"
   },
   "outputs": [],
   "source": [
    "model.compile(\n",
    "    optimizer=tf.keras.optimizers.Adam(learning_rate=0.0001), \n",
    "    loss=tf.keras.losses.SparseCategoricalCrossentropy(from_logits=False), \n",
    "    metrics=['accuracy']\n",
    "    )"
   ]
  },
  {
   "cell_type": "code",
   "execution_count": null,
   "metadata": {
    "id": "Uz0pINNF5cS1",
    "scrolled": true
   },
   "outputs": [],
   "source": [
    "model1=model.fit(train_dataset,validation_data=validation_dataset,epochs=30)"
   ]
  },
  {
   "cell_type": "code",
   "execution_count": null,
   "metadata": {
    "scrolled": true
   },
   "outputs": [],
   "source": [
    "from keras.preprocessing import image\n",
    "import numpy as np\n",
    "import tensorflow as tf\n",
    "# Pre-processing the image\n",
    "img = tf.keras.utils.load_img(r\"C:\\Users\\ravip\\Indian-Currency-Classification-main/Indian-Currency-Classification-main/train/100/new_100.jpg\", target_size = (128,128))\n",
    "img_tensor = tf.keras.utils.img_to_array(img)\n",
    "img_tensor = np.expand_dims(img_tensor, axis = 0)\n",
    "img_tensor = img_tensor / 255.\n",
    "  \n",
    "# Print image tensor shape\n",
    "print(img_tensor.shape)\n",
    "  \n",
    "# Print image\n",
    "import matplotlib.pyplot as plt\n",
    "plt.imshow(img_tensor[0])\n",
    "plt.show()"
   ]
  },
  {
   "cell_type": "code",
   "execution_count": null,
   "metadata": {},
   "outputs": [],
   "source": [
    "from keras import models\n",
    "from keras import layers\n",
    "# Outputs of the 8 layers, which include conv2D and max pooling layers\n",
    "layer_outputs = [layer.output for layer in model.layers[:8]]\n",
    "activation_model = tf.keras.models.Model(inputs = model.input, outputs = layer_outputs)\n",
    "activations = activation_model.predict(img_tensor)\n",
    "\n",
    "# Getting Activations of first layer\n",
    "first_layer_activation = activations[1]\n",
    "\n",
    "# shape of first layer activation\n",
    "print(first_layer_activation.shape)\n",
    "\n",
    "# 6th channel of the image after first layer of convolution is applied\n",
    "plt.matshow(first_layer_activation[0, :, :, 6], cmap ='viridis')\n",
    "\n",
    "# 15th channel of the image after first layer of convolution is applied\n",
    "plt.matshow(first_layer_activation[0, :, :, 15], cmap ='viridis')\n"
   ]
  },
  {
   "cell_type": "code",
   "execution_count": null,
   "metadata": {},
   "outputs": [],
   "source": [
    "import os\n",
    "from keras.preprocessing import image\n",
    "import numpy as np\n",
    "import tensorflow as tf\n",
    "import matplotlib.pyplot as plt\n",
    "train_dir=r\"C:\\Users\\ravip\\Indian-Currency-Classification-main/Indian-Currency-Classification-main/train/10\"\n",
    "for i  in os.listdir(train_dir):\n",
    "    img=tf.keras.utils.load_img(train_dir+'//'+i)\n",
    "    plt.imshow(img)\n",
    "    plt.show()"
   ]
  },
  {
   "cell_type": "code",
   "execution_count": null,
   "metadata": {},
   "outputs": [],
   "source": [
    "val_loss, val_acc = model.evaluate(validation_dataset, verbose='auto')\n",
    "print(f\"Validation:\\n\\tloss:{val_loss} \\n\\taccuracy:{val_acc}\")"
   ]
  },
  {
   "cell_type": "code",
   "execution_count": null,
   "metadata": {
    "id": "kaS-vs4B-Bb-"
   },
   "outputs": [],
   "source": [
    "test_dir = r\"C:\\Users\\ravip\\Indian-Currency-Classification-main\\Indian-Currency-Classification-main\\test\"\n",
    "\n",
    "test_imageID = []\n",
    "# r=root, d=directories, f = files\n",
    "\n",
    "for r, d, f in os.walk(test_dir, topdown=False):\n",
    "    for file in f:\n",
    "      if '.jpg' in file:\n",
    "          test_imageID.append(Path(file).stem)\n",
    "test_imageID = sorted(test_imageID)"
   ]
  },
  {
   "cell_type": "code",
   "execution_count": null,
   "metadata": {
    "id": "CNVPHv0Sq7N6"
   },
   "outputs": [],
   "source": [
    "test_dataset = tf.keras.preprocessing.image_dataset_from_directory(\n",
    "          test_dir, \n",
    "          labels='inferred', \n",
    "          label_mode=None,\n",
    "          class_names = None,\n",
    "          color_mode='rgb', \n",
    "          batch_size=1,\n",
    "          shuffle = False,\n",
    "          image_size=(128, 128), \n",
    "          interpolation='bicubic', \n",
    "          smart_resize=True\n",
    "        )"
   ]
  },
  {
   "cell_type": "code",
   "execution_count": null,
   "metadata": {
    "id": "WWVGqPr5Dcp6"
   },
   "outputs": [],
   "source": [
    "def normalize_test(image):\n",
    "  \"\"\"\n",
    "    Returns normalized image and its label\n",
    "  \"\"\"\n",
    "  image = tf.cast(image/255. ,tf.float32)\n",
    "  return image"
   ]
  },
  {
   "cell_type": "code",
   "execution_count": null,
   "metadata": {
    "id": "j4g64IR8Dgkd"
   },
   "outputs": [],
   "source": [
    "# # Normalizing dataset\n",
    "test_dataset = test_dataset.map(normalize_test)"
   ]
  },
  {
   "cell_type": "code",
   "execution_count": null,
   "metadata": {
    "id": "cGiN1vXhrgTj"
   },
   "outputs": [],
   "source": [
    "predictions = model.predict(test_dataset)"
   ]
  },
  {
   "cell_type": "code",
   "execution_count": null,
   "metadata": {
    "id": "8biYSrNKCY5x"
   },
   "outputs": [],
   "source": [
    "pred_category = np.argmax(predictions,axis = 1)     "
   ]
  },
  {
   "cell_type": "code",
   "execution_count": null,
   "metadata": {
    "id": "MW3QuZuDEG2P"
   },
   "outputs": [],
   "source": [
    "labels_name = ['10', '20', '50', '100', '200', '500', '2000']\n",
    "pred_output_labels = [labels_name[i] for i in pred_category]"
   ]
  },
  {
   "cell_type": "code",
   "execution_count": null,
   "metadata": {
    "id": "_dV0CJft5rXz"
   },
   "outputs": [],
   "source": [
    "test_images = list(test_dataset.as_numpy_iterator()) \n",
    "num_test_images = len(test_images)"
   ]
  },
  {
   "cell_type": "code",
   "execution_count": null,
   "metadata": {},
   "outputs": [],
   "source": [
    "import matplotlib.pyplot as plt\n",
    "import seaborn as sns\n",
    "sns.set()\n",
    "acc = model1.history['accuracy']\n",
    "val_acc = model1.history['val_accuracy']\n",
    "loss = model1.history['loss']\n",
    "val_loss = model1.history['val_loss']\n",
    "epochs = range(1, len(loss) + 1)\n",
    "#accuracy plot\n",
    "plt.plot(epochs, acc, color='green', label='Training Accuracy')\n",
    "plt.plot(epochs, val_acc, color='blue', label='Validation Accuracy')\n",
    "plt.title('Training and Validation Accuracy')\n",
    "plt.ylabel('Accuracy')\n",
    "plt.xlabel('Epoch')\n",
    "plt.legend()\n",
    "plt.figure()\n",
    "#loss plot\n",
    "plt.plot(epochs, loss, color='pink', label='Training Loss')\n",
    "plt.plot(epochs, val_loss, color='red', label='Validation Loss')\n",
    "plt.title('Training and Validation Loss')\n",
    "plt.xlabel('Epoch')\n",
    "plt.ylabel('Loss')\n",
    "plt.legend()\n",
    "plt.show()"
   ]
  },
  {
   "cell_type": "code",
   "execution_count": null,
   "metadata": {
    "id": "ykkDi43JR2fk"
   },
   "outputs": [],
   "source": [
    "subplot_rows = num_test_images//6 + (1 if num_test_images%6!=0 else 0)\n",
    "subplot_columns = num_test_images if num_test_images<6 else 6\n",
    "\n",
    "plt.figure(figsize=(20, 20))\n",
    "i = 0     \n",
    "\n",
    "for images in test_images:\n",
    "  ax = plt.subplot(subplot_rows, subplot_columns, i + 1)\n",
    "  plt.imshow((np.squeeze(images) * 255).astype(np.uint8), cmap = 'gray')\n",
    "  plt.title(pred_output_labels[i])\n",
    "  plt.axis(\"off\")\n",
    "  i = i + 1\n",
    "\n",
    "plt.tight_layout()\n",
    "plt.show()"
   ]
  },
  {
   "cell_type": "code",
   "execution_count": null,
   "metadata": {},
   "outputs": [],
   "source": [
    "from tensorflow.keras.preprocessing import image\n",
    "import numpy as np\n",
    "image_path = \"test/all-new-Rs-10-note-1.jpg\"\n",
    "new_img = image.load_img(image_path, target_size=(128, 128))\n",
    "img = image.img_to_array(new_img)\n",
    "img = np.expand_dims(img, axis=0)\n",
    "img = img/255\n",
    "print(\"Following is our prediction:\")\n",
    "prediction = model.predict(img)\n",
    "d = prediction.flatten()\n",
    "j = d.max()\n",
    "for index,item in enumerate(d):\n",
    "    if item == j:\n",
    "        class_name = labels_name[index]\n",
    "#ploting image with predicted class name \n",
    "plt.figure(figsize = (4,4))\n",
    "plt.imshow(new_img)\n",
    "plt.axis('off')\n",
    "plt.title(class_name)\n",
    "plt.show()"
   ]
  },
  {
   "cell_type": "code",
   "execution_count": null,
   "metadata": {
    "id": "a25fZeYuUVM8"
   },
   "outputs": [],
   "source": [
    "model.save(r\"C:\\Users\\ravip\\Indian-Currency-Classification-main\\Indian-Currency-Classification-main\\my_model\")  # Save the model "
   ]
  },
  {
   "cell_type": "code",
   "execution_count": null,
   "metadata": {
    "id": "-i85UNyaXEWy"
   },
   "outputs": [],
   "source": [
    "infer_model = tf.keras.models.load_model(r\"C:\\Users\\ravip\\Indian-Currency-Classification-main\\Indian-Currency-Classification-main\\my_model\")\n",
    "\n",
    "\n",
    "infer_model.summary()"
   ]
  },
  {
   "cell_type": "code",
   "execution_count": null,
   "metadata": {
    "id": "ZknRobthXx1N"
   },
   "outputs": [],
   "source": [
    "val_loss, val_acc = infer_model.evaluate(validation_dataset, verbose='auto')\n",
    "print(f\"Restored model Validation:\\n\\tloss:{val_loss} \\n\\taccuracy:{val_acc}\")"
   ]
  },
  {
   "cell_type": "code",
   "execution_count": null,
   "metadata": {},
   "outputs": [],
   "source": []
  }
 ],
 "metadata": {
  "colab": {
   "authorship_tag": "ABX9TyP9IbQKTqSiYEUfy69wIjAZ",
   "collapsed_sections": [],
   "mount_file_id": "1RDE2aCNETR-eK5sRyW7DxxHrMFgnKELx",
   "name": "Currency_Classification.ipynb",
   "provenance": [
    {
     "file_id": "1dD7ibZGS1-gQCPN8qCMvSvsBGz9ocJcv",
     "timestamp": 1625828370525
    }
   ]
  },
  "kernelspec": {
   "display_name": "Python 3 (ipykernel)",
   "language": "python",
   "name": "python3"
  },
  "language_info": {
   "codemirror_mode": {
    "name": "ipython",
    "version": 3
   },
   "file_extension": ".py",
   "mimetype": "text/x-python",
   "name": "python",
   "nbconvert_exporter": "python",
   "pygments_lexer": "ipython3",
   "version": "3.9.16"
  }
 },
 "nbformat": 4,
 "nbformat_minor": 1
}
